{
 "cells": [
  {
   "cell_type": "code",
   "execution_count": 1,
   "metadata": {},
   "outputs": [],
   "source": [
    "import os\n",
    "from pathlib import Path"
   ]
  },
  {
   "cell_type": "code",
   "execution_count": null,
   "metadata": {},
   "outputs": [],
   "source": [
    "for (dirpath, dirnames, filenames) in os.walk('./'):\n",
    "    for filename in filenames:\n",
    "        if filename.endswith('.dat'):\n",
    "            grammar = 'java -jar -ea MAGR.jar -iokab ' filename + ' 1> ' + filename + '-iokab.txt 2>&1'\n",
    "            os.system(grammar)\n",
    "            r_grammar = 'java -jar -ea MAGR.jar -iokabr ' filename + ' 1> ' + filename + '-iokabr.txt 2>&1'\n",
    "            os.system(r_grammar)"
   ]
  }
 ],
 "metadata": {
  "kernelspec": {
   "display_name": "Python 3",
   "language": "python",
   "name": "python3"
  },
  "language_info": {
   "codemirror_mode": {
    "name": "ipython",
    "version": 3
   },
   "file_extension": ".py",
   "mimetype": "text/x-python",
   "name": "python",
   "nbconvert_exporter": "python",
   "pygments_lexer": "ipython3",
   "version": "3.8.5"
  }
 },
 "nbformat": 4,
 "nbformat_minor": 4
}
